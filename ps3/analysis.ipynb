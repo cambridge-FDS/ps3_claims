{
 "cells": [
  {
   "cell_type": "code",
   "execution_count": 12,
   "metadata": {},
   "outputs": [],
   "source": [
    "# Problem set 3 analysis\n",
    "\n",
    "import numpy as np\n",
    "import pandas as pd\n",
    "import data._sample_split as sample_split\n",
    "from data._load_transform import *"
   ]
  },
  {
   "cell_type": "code",
   "execution_count": 13,
   "metadata": {},
   "outputs": [
    {
     "data": {
      "text/plain": [
       "<module 'data._sample_split' from 'c:\\\\Users\\\\charl\\\\OneDrive\\\\Uni\\\\Masters\\\\Computing\\\\FDS\\\\ps3_claims\\\\ps3\\\\data\\\\_sample_split.py'>"
      ]
     },
     "execution_count": 13,
     "metadata": {},
     "output_type": "execute_result"
    }
   ],
   "source": [
    "from importlib import reload\n",
    "reload(sample_split)"
   ]
  },
  {
   "cell_type": "code",
   "execution_count": null,
   "metadata": {},
   "outputs": [],
   "source": [
    "# Load the data using the pre made function\n",
    "df = load_transform()\n"
   ]
  },
  {
   "cell_type": "markdown",
   "metadata": {},
   "source": [
    "We see that IDpol is a unique ID so will use that for the creating custom train test split."
   ]
  },
  {
   "cell_type": "code",
   "execution_count": 5,
   "metadata": {},
   "outputs": [
    {
     "name": "stdout",
     "output_type": "stream",
     "text": [
      "   IDpol  ClaimNb  Exposure Area  VehPower  VehAge  DrivAge  BonusMalus  \\\n",
      "0      1        0      0.10    D         5       0        5          50   \n",
      "1      3        0      0.77    D         5       0        5          50   \n",
      "2      5        0      0.75    B         6       1        5          50   \n",
      "3     10        0      0.09    B         7       0        4          50   \n",
      "4     11        0      0.84    B         7       0        4          50   \n",
      "\n",
      "  VehBrand   VehGas  Density Region  ClaimAmount  ClaimAmountCut  \n",
      "0      B12  Regular     1217    R82          0.0             0.0  \n",
      "1      B12  Regular     1217    R82          0.0             0.0  \n",
      "2      B12   Diesel       54    R22          0.0             0.0  \n",
      "3      B12   Diesel       76    R72          0.0             0.0  \n",
      "4      B12   Diesel       76    R72          0.0             0.0  \n",
      "              IDpol        ClaimNb       Exposure       VehPower  \\\n",
      "count  6.780130e+05  678013.000000  678013.000000  678013.000000   \n",
      "mean   2.621857e+06       0.038946       0.528545       6.255635   \n",
      "std    1.641783e+06       0.205036       0.364081       1.603689   \n",
      "min    1.000000e+00       0.000000       0.002732       4.000000   \n",
      "25%    1.157951e+06       0.000000       0.180000       5.000000   \n",
      "50%    2.272152e+06       0.000000       0.490000       6.000000   \n",
      "75%    4.046274e+06       0.000000       0.990000       7.000000   \n",
      "max    6.114330e+06       4.000000       1.000000       9.000000   \n",
      "\n",
      "              VehAge        DrivAge     BonusMalus        Density  \\\n",
      "count  678013.000000  678013.000000  678013.000000  678013.000000   \n",
      "mean        1.188850       3.782926      59.761502    1792.422405   \n",
      "std         0.568775       1.304976      15.636658    3958.646564   \n",
      "min         0.000000       0.000000      50.000000       1.000000   \n",
      "25%         1.000000       3.000000      50.000000      92.000000   \n",
      "50%         1.000000       4.000000      50.000000     393.000000   \n",
      "75%         2.000000       5.000000      64.000000    1658.000000   \n",
      "max         2.000000       6.000000     230.000000   27000.000000   \n",
      "\n",
      "        ClaimAmount  ClaimAmountCut  \n",
      "count  6.780130e+05   678013.000000  \n",
      "mean   8.835998e+01       72.715709  \n",
      "std    5.822454e+03     1171.681571  \n",
      "min    0.000000e+00        0.000000  \n",
      "25%    0.000000e+00        0.000000  \n",
      "50%    0.000000e+00        0.000000  \n",
      "75%    0.000000e+00        0.000000  \n",
      "max    4.075401e+06   115600.000000  \n",
      "<class 'pandas.core.frame.DataFrame'>\n",
      "RangeIndex: 678013 entries, 0 to 678012\n",
      "Data columns (total 14 columns):\n",
      " #   Column          Non-Null Count   Dtype  \n",
      "---  ------          --------------   -----  \n",
      " 0   IDpol           678013 non-null  int64  \n",
      " 1   ClaimNb         678013 non-null  int64  \n",
      " 2   Exposure        678013 non-null  float64\n",
      " 3   Area            678013 non-null  object \n",
      " 4   VehPower        678013 non-null  int64  \n",
      " 5   VehAge          678013 non-null  int64  \n",
      " 6   DrivAge         678013 non-null  int64  \n",
      " 7   BonusMalus      678013 non-null  int64  \n",
      " 8   VehBrand        678013 non-null  object \n",
      " 9   VehGas          678013 non-null  object \n",
      " 10  Density         678013 non-null  int64  \n",
      " 11  Region          678013 non-null  object \n",
      " 12  ClaimAmount     678013 non-null  float64\n",
      " 13  ClaimAmountCut  678013 non-null  float64\n",
      "dtypes: float64(3), int64(7), object(4)\n",
      "memory usage: 72.4+ MB\n"
     ]
    }
   ],
   "source": [
    "print(df.head(5))\n",
    "print(df.describe())\n",
    "df.info()"
   ]
  },
  {
   "cell_type": "code",
   "execution_count": null,
   "metadata": {},
   "outputs": [
    {
     "name": "stdout",
     "output_type": "stream",
     "text": [
      "Train test split ratio: 0.7999994100408104\n"
     ]
    },
    {
     "name": "stderr",
     "output_type": "stream",
     "text": [
      "C:\\Users\\charl\\AppData\\Local\\Temp\\ipykernel_24900\\769023125.py:5: FutureWarning: Series.__getitem__ treating keys as positions is deprecated. In a future version, integer keys will always be treated as labels (consistent with DataFrame behavior). To access a value by position, use `ser.iloc[pos]`\n",
      "  training_count = df['sample'].value_counts()[0]\n",
      "C:\\Users\\charl\\AppData\\Local\\Temp\\ipykernel_24900\\769023125.py:6: FutureWarning: Series.__getitem__ treating keys as positions is deprecated. In a future version, integer keys will always be treated as labels (consistent with DataFrame behavior). To access a value by position, use `ser.iloc[pos]`\n",
      "  testing_count = df['sample'].value_counts()[1]\n"
     ]
    }
   ],
   "source": [
    "df = sample_split.create_sample_split(df, 'IDpol', 0.8)\n",
    "df.head(5)\n",
    "\n",
    "# Count number true for sample\n",
    "training_count = df['sample'].value_counts()[0]\n",
    "testing_count = df['sample'].value_counts()[1]\n",
    "\n",
    "\n",
    "\n",
    "print(f'Train test split ratio: {training_count / (testing_count + training_count)}')\n",
    "# 80% split as required\n"
   ]
  }
 ],
 "metadata": {
  "kernelspec": {
   "display_name": "ps3",
   "language": "python",
   "name": "python3"
  },
  "language_info": {
   "codemirror_mode": {
    "name": "ipython",
    "version": 3
   },
   "file_extension": ".py",
   "mimetype": "text/x-python",
   "name": "python",
   "nbconvert_exporter": "python",
   "pygments_lexer": "ipython3",
   "version": "3.12.7"
  }
 },
 "nbformat": 4,
 "nbformat_minor": 2
}
